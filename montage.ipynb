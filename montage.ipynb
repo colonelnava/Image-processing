{
 "cells": [
  {
   "cell_type": "code",
   "execution_count": 2,
   "id": "83a05911",
   "metadata": {},
   "outputs": [
    {
     "name": "stdout",
     "output_type": "stream",
     "text": [
      "[[1 2 3]\n",
      " [4 5 6]]\n"
     ]
    }
   ],
   "source": [
    "import numpy as np\n",
    "import skimage.util\n",
    "a = np.arange(1, 7).reshape(2, 3)\n",
    "print(a)"
   ]
  },
  {
   "cell_type": "code",
   "execution_count": 6,
   "id": "f8fbf493",
   "metadata": {},
   "outputs": [],
   "source": [
    "b = a * 10"
   ]
  },
  {
   "cell_type": "code",
   "execution_count": 7,
   "id": "b4f928de",
   "metadata": {},
   "outputs": [],
   "source": [
    "c = a * 100"
   ]
  },
  {
   "cell_type": "code",
   "execution_count": 8,
   "id": "243f88ff",
   "metadata": {},
   "outputs": [
    {
     "name": "stdout",
     "output_type": "stream",
     "text": [
      "[[100 200 300]\n",
      " [400 500 600]]\n"
     ]
    }
   ],
   "source": [
    "print(c)"
   ]
  },
  {
   "cell_type": "code",
   "execution_count": 9,
   "id": "3269e104",
   "metadata": {},
   "outputs": [
    {
     "name": "stdout",
     "output_type": "stream",
     "text": [
      "[[  1   2   3  10  20  30]\n",
      " [  4   5   6  40  50  60]\n",
      " [100 200 300 129 129 129]\n",
      " [400 500 600 129 129 129]]\n"
     ]
    }
   ],
   "source": [
    "m = skimage.util.montage([a, b, c])\n",
    "print(m)"
   ]
  },
  {
   "cell_type": "code",
   "execution_count": 10,
   "id": "f62168c1",
   "metadata": {},
   "outputs": [
    {
     "name": "stdout",
     "output_type": "stream",
     "text": [
      "(4, 6)\n"
     ]
    }
   ],
   "source": [
    "print(m.shape)"
   ]
  },
  {
   "cell_type": "code",
   "execution_count": 11,
   "id": "59deaeb4",
   "metadata": {},
   "outputs": [
    {
     "name": "stdout",
     "output_type": "stream",
     "text": [
      "[[[  1   2   3]\n",
      "  [  4   5   6]]\n",
      "\n",
      " [[ 10  20  30]\n",
      "  [ 40  50  60]]\n",
      "\n",
      " [[100 200 300]\n",
      "  [400 500 600]]]\n"
     ]
    }
   ],
   "source": [
    "abc = np.array([a, b, c])\n",
    "print(abc)"
   ]
  },
  {
   "cell_type": "code",
   "execution_count": 12,
   "id": "79a51fb0",
   "metadata": {},
   "outputs": [
    {
     "name": "stdout",
     "output_type": "stream",
     "text": [
      "(3, 2, 3)\n"
     ]
    }
   ],
   "source": [
    "print(abc.shape)"
   ]
  },
  {
   "cell_type": "code",
   "execution_count": 14,
   "id": "48d90986",
   "metadata": {},
   "outputs": [
    {
     "name": "stdout",
     "output_type": "stream",
     "text": [
      "[[  1   2   3  10  20  30]\n",
      " [  4   5   6  40  50  60]\n",
      " [100 200 300 129 129 129]\n",
      " [400 500 600 129 129 129]]\n"
     ]
    }
   ],
   "source": [
    "print(skimage.util.montage(abc))"
   ]
  },
  {
   "cell_type": "code",
   "execution_count": 15,
   "id": "72f32f1e",
   "metadata": {},
   "outputs": [
    {
     "name": "stdout",
     "output_type": "stream",
     "text": [
      "[[1 2]\n",
      " [4 5]]\n"
     ]
    }
   ],
   "source": [
    "d = a[:, :2]\n",
    "print(d)"
   ]
  },
  {
   "cell_type": "code",
   "execution_count": 16,
   "id": "adecf769",
   "metadata": {},
   "outputs": [
    {
     "name": "stdout",
     "output_type": "stream",
     "text": [
      "129.5\n"
     ]
    }
   ],
   "source": [
    "print(np.mean(np.array([a, b, c])))"
   ]
  },
  {
   "cell_type": "code",
   "execution_count": 17,
   "id": "840e187d",
   "metadata": {},
   "outputs": [
    {
     "name": "stdout",
     "output_type": "stream",
     "text": [
      "[[  1   2   3  10  20  30]\n",
      " [  4   5   6  40  50  60]\n",
      " [100 200 300   0   0   0]\n",
      " [400 500 600   0   0   0]]\n"
     ]
    }
   ],
   "source": [
    "print(skimage.util.montage([a, b, c], fill=0))"
   ]
  },
  {
   "cell_type": "code",
   "execution_count": 18,
   "id": "700e20ea",
   "metadata": {},
   "outputs": [
    {
     "name": "stdout",
     "output_type": "stream",
     "text": [
      "[[  1   2   3  10  20  30 100 200 300]\n",
      " [  4   5   6  40  50  60 400 500 600]]\n"
     ]
    }
   ],
   "source": [
    "print(skimage.util.montage([a, b, c], grid_shape=(1, 3)))"
   ]
  },
  {
   "cell_type": "code",
   "execution_count": 19,
   "id": "79be92ce",
   "metadata": {},
   "outputs": [
    {
     "name": "stdout",
     "output_type": "stream",
     "text": [
      "[[  1   2   3]\n",
      " [  4   5   6]\n",
      " [ 10  20  30]\n",
      " [ 40  50  60]\n",
      " [100 200 300]\n",
      " [400 500 600]]\n"
     ]
    }
   ],
   "source": [
    "print(skimage.util.montage([a, b, c], grid_shape=(3, 1)))"
   ]
  },
  {
   "cell_type": "code",
   "execution_count": 20,
   "id": "d755e0cf",
   "metadata": {},
   "outputs": [
    {
     "name": "stdout",
     "output_type": "stream",
     "text": [
      "[[  1   2   3  10  20  30 100 200 300]\n",
      " [  4   5   6  40  50  60 400 500 600]\n",
      " [129 129 129 129 129 129 129 129 129]\n",
      " [129 129 129 129 129 129 129 129 129]]\n"
     ]
    }
   ],
   "source": [
    "print(skimage.util.montage([a, b, c], grid_shape=(2, 3)))"
   ]
  },
  {
   "cell_type": "code",
   "execution_count": 21,
   "id": "ea92e60d",
   "metadata": {},
   "outputs": [
    {
     "name": "stdout",
     "output_type": "stream",
     "text": [
      "[[  1   2   3  10  20  30 100 200 300]\n",
      " [  4   5   6  40  50  60 400 500 600]\n",
      " [  0   0   0   0   0   0   0   0   0]\n",
      " [  0   0   0   0   0   0   0   0   0]]\n"
     ]
    }
   ],
   "source": [
    "print(skimage.util.montage([a, b, c], grid_shape=(2, 3), fill=0))"
   ]
  },
  {
   "cell_type": "code",
   "execution_count": 22,
   "id": "3dd65353",
   "metadata": {},
   "outputs": [
    {
     "name": "stdout",
     "output_type": "stream",
     "text": [
      "[[129 129 129 129 129 129 129 129 129]\n",
      " [129   1   2   3 129  10  20  30 129]\n",
      " [129   4   5   6 129  40  50  60 129]\n",
      " [129 129 129 129 129 129 129 129 129]\n",
      " [129 100 200 300 129 129 129 129 129]\n",
      " [129 400 500 600 129 129 129 129 129]\n",
      " [129 129 129 129 129 129 129 129 129]]\n"
     ]
    }
   ],
   "source": [
    "print(skimage.util.montage([a, b, c], padding_width=1))"
   ]
  },
  {
   "cell_type": "code",
   "execution_count": 24,
   "id": "8ffb8fb1",
   "metadata": {},
   "outputs": [
    {
     "name": "stdout",
     "output_type": "stream",
     "text": [
      "[[  0   0   0   0   0   0   0   0   0]\n",
      " [  0   1   2   3   0  10  20  30   0]\n",
      " [  0   4   5   6   0  40  50  60   0]\n",
      " [  0   0   0   0   0   0   0   0   0]\n",
      " [  0 100 200 300   0   0   0   0   0]\n",
      " [  0 400 500 600   0   0   0   0   0]\n",
      " [  0   0   0   0   0   0   0   0   0]]\n"
     ]
    }
   ],
   "source": [
    "print(skimage.util.montage([a, b, c], padding_width=1, fill=0))"
   ]
  },
  {
   "cell_type": "code",
   "execution_count": 25,
   "id": "1b2a4b1b",
   "metadata": {},
   "outputs": [
    {
     "name": "stdout",
     "output_type": "stream",
     "text": [
      "(800, 1200, 3)\n",
      "(1600, 2400, 3)\n"
     ]
    },
    {
     "name": "stderr",
     "output_type": "stream",
     "text": [
      "C:\\Users\\User\\AppData\\Local\\Temp\\ipykernel_9680\\3327231803.py:7: FutureWarning: `multichannel` is a deprecated argument name for `montage`. It will be removed in version 1.0. Please use `channel_axis` instead.\n",
      "  m = skimage.util.montage([a, b, c], multichannel=True)\n"
     ]
    }
   ],
   "source": [
    "import skimage.io\n",
    "import skimage.util\n",
    "a = skimage.io.imread('CR.jpg')\n",
    "print(a.shape)\n",
    "b = a // 2\n",
    "c = a // 3\n",
    "m = skimage.util.montage([a, b, c], multichannel=True)\n",
    "print(m.shape)\n",
    "skimage.io.imsave('D:/Image Processing/MONTAGE.jpg', m)"
   ]
  },
  {
   "cell_type": "code",
   "execution_count": 26,
   "id": "6e917a32",
   "metadata": {},
   "outputs": [
    {
     "name": "stdout",
     "output_type": "stream",
     "text": [
      "(820, 3640, 3)\n"
     ]
    },
    {
     "name": "stderr",
     "output_type": "stream",
     "text": [
      "C:\\Users\\User\\AppData\\Local\\Temp\\ipykernel_9680\\130585821.py:1: FutureWarning: `multichannel` is a deprecated argument name for `montage`. It will be removed in version 1.0. Please use `channel_axis` instead.\n",
      "  m_1_3_pad = skimage.util.montage([a, b, c],\n"
     ]
    }
   ],
   "source": [
    "m_1_3_pad = skimage.util.montage([a, b, c],\n",
    "                                 fill=(0, 0, 0),\n",
    "                                 grid_shape=(1,3),\n",
    "                                 padding_width=10,\n",
    "                                 multichannel=True)\n",
    "print(m_1_3_pad.shape)\n",
    "\n",
    "skimage.io.imsave(\"D:/Image Processing/skimage_montage_1_3_pad.jpg\", m_1_3_pad)"
   ]
  },
  {
   "cell_type": "code",
   "execution_count": null,
   "id": "a1ce6166",
   "metadata": {},
   "outputs": [],
   "source": []
  }
 ],
 "metadata": {
  "kernelspec": {
   "display_name": "Python 3 (ipykernel)",
   "language": "python",
   "name": "python3"
  },
  "language_info": {
   "codemirror_mode": {
    "name": "ipython",
    "version": 3
   },
   "file_extension": ".py",
   "mimetype": "text/x-python",
   "name": "python",
   "nbconvert_exporter": "python",
   "pygments_lexer": "ipython3",
   "version": "3.9.7"
  }
 },
 "nbformat": 4,
 "nbformat_minor": 5
}
