{
 "cells": [
  {
   "cell_type": "code",
   "execution_count": 1,
   "id": "fc9c589e",
   "metadata": {},
   "outputs": [],
   "source": [
    "import numpy as np\n",
    "import cv2"
   ]
  },
  {
   "cell_type": "code",
   "execution_count": 2,
   "id": "dfd8b3d0",
   "metadata": {},
   "outputs": [],
   "source": [
    "img = cv2.imread(\"C:/Users/User/Downloads/catdog.png\")"
   ]
  },
  {
   "cell_type": "code",
   "execution_count": 3,
   "id": "cfdb2ce5",
   "metadata": {},
   "outputs": [],
   "source": [
    "mask = cv2.imread(\"C:/Users/User/Downloads/catmask.png\",0)\n"
   ]
  },
  {
   "cell_type": "code",
   "execution_count": 4,
   "id": "22ab53e5",
   "metadata": {},
   "outputs": [],
   "source": [
    "dst = cv2.inpaint(img, mask, 3, cv2.INPAINT_NS)"
   ]
  },
  {
   "cell_type": "code",
   "execution_count": 6,
   "id": "021982db",
   "metadata": {},
   "outputs": [],
   "source": [
    "cv2.imwrite('catinpainted.png', dst)\n",
    "cv2.imshow(\"image\", img)\n",
    "cv2.imshow(\"restored image\", dst)\n",
    "cv2.waitKey(0)\n",
    "cv2.destroyAllWindows()"
   ]
  },
  {
   "cell_type": "code",
   "execution_count": null,
   "id": "9efd87d6",
   "metadata": {},
   "outputs": [],
   "source": []
  }
 ],
 "metadata": {
  "kernelspec": {
   "display_name": "Python 3 (ipykernel)",
   "language": "python",
   "name": "python3"
  },
  "language_info": {
   "codemirror_mode": {
    "name": "ipython",
    "version": 3
   },
   "file_extension": ".py",
   "mimetype": "text/x-python",
   "name": "python",
   "nbconvert_exporter": "python",
   "pygments_lexer": "ipython3",
   "version": "3.9.7"
  }
 },
 "nbformat": 4,
 "nbformat_minor": 5
}
