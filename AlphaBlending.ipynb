{
 "cells": [
  {
   "cell_type": "code",
   "execution_count": 1,
   "id": "524070a3",
   "metadata": {},
   "outputs": [],
   "source": [
    "from PIL import Image\n",
    "image1 = Image.open(\"PRATHVI.jpg\")\n",
    "image2 = Image.open(\"NACH.jpg\")\n",
    "\n",
    "alphablend1 = Image.blend(image1, image2, alpha=.4)\n",
    "alphablend2 = Image.blend(image1, image2, alpha=.2)\n",
    "\n",
    "alphablend1.show()\n",
    "alphablend2.show()"
   ]
  },
  {
   "cell_type": "code",
   "execution_count": null,
   "id": "aa5de4f4",
   "metadata": {},
   "outputs": [],
   "source": []
  },
  {
   "cell_type": "code",
   "execution_count": null,
   "id": "42538d8e",
   "metadata": {},
   "outputs": [],
   "source": []
  }
 ],
 "metadata": {
  "kernelspec": {
   "display_name": "Python 3 (ipykernel)",
   "language": "python",
   "name": "python3"
  },
  "language_info": {
   "codemirror_mode": {
    "name": "ipython",
    "version": 3
   },
   "file_extension": ".py",
   "mimetype": "text/x-python",
   "name": "python",
   "nbconvert_exporter": "python",
   "pygments_lexer": "ipython3",
   "version": "3.9.7"
  }
 },
 "nbformat": 4,
 "nbformat_minor": 5
}
