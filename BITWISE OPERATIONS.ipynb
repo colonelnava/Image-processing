{
 "cells": [
  {
   "cell_type": "code",
   "execution_count": null,
   "id": "02bcedf1",
   "metadata": {},
   "outputs": [],
   "source": [
    "#import opencv\n",
    "import cv2 as cv\n",
    "#read the images\n",
    "img1 = cv.imread('circlo.jpg')\n",
    "img2 = cv.imread('sqauro.jpg')\n",
    "bitwise_AND = cv.bitwise_and(img1, img2)\n",
    "bitwise_OR = cv.bitwise_or(img1, img2)\n",
    "bitwise_NOT = cv.bitwise_not(img1)\n",
    "cv.imshow('AND',bitwise_AND)\n",
    "cv.imshow('OR',bitwise_OR)\n",
    "cv.imshow('NOT',bitwise_NOT)\n",
    "if cv.waitKey(0) & 0xff == 27: \n",
    "    cv.destroyAllWindows()"
   ]
  },
  {
   "cell_type": "code",
   "execution_count": 11,
   "id": "00f685d5",
   "metadata": {},
   "outputs": [],
   "source": [
    "from PIL import Image\n",
    "filepath2=\"circle.jpg\"\n",
    "im2=Image.open(filepath2)\n",
    "new_im2=im2.resize((400,400))\n",
    "new_im2\n",
    "new_im2=new_im2.save('circlo.jpg')"
   ]
  },
  {
   "cell_type": "code",
   "execution_count": null,
   "id": "9db1208c",
   "metadata": {},
   "outputs": [],
   "source": [
    "filepath1=\"square.jpg\"\n",
    "im1=Image.open(filepath1)\n",
    "new_im1=im1.resize((400,400))\n",
    "new_im1\n",
    "new_im1=new_im1.save('sqauro.jpg')"
   ]
  },
  {
   "cell_type": "code",
   "execution_count": null,
   "id": "e5b0bb7d",
   "metadata": {},
   "outputs": [],
   "source": []
  }
 ],
 "metadata": {
  "kernelspec": {
   "display_name": "Python 3 (ipykernel)",
   "language": "python",
   "name": "python3"
  },
  "language_info": {
   "codemirror_mode": {
    "name": "ipython",
    "version": 3
   },
   "file_extension": ".py",
   "mimetype": "text/x-python",
   "name": "python",
   "nbconvert_exporter": "python",
   "pygments_lexer": "ipython3",
   "version": "3.9.7"
  }
 },
 "nbformat": 4,
 "nbformat_minor": 5
}
