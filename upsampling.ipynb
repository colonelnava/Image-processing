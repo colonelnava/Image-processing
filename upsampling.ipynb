{
 "cells": [
  {
   "cell_type": "code",
   "execution_count": 3,
   "id": "2ba64607",
   "metadata": {},
   "outputs": [],
   "source": [
    "import matplotlib.image as img\n",
    "import numpy as npy\n",
    " \n",
    "# provide the location of image for reading\n",
    "m = img.imread(\"taj.png\");\n",
    " \n",
    "# determining the length of original image\n",
    "w, h = m.shape[:2];\n",
    " \n",
    "# xNew and yNew are new width and\n",
    "# height of image required\n",
    "xNew = int(w * 1 / 2);\n",
    "yNew = int(h * 1 / 2);\n",
    " \n",
    "# calculating the scaling factor\n",
    "# work for more than 2 pixel\n",
    "xScale = xNew/(w-1);\n",
    "yScale = yNew/(h-1);\n",
    " \n",
    "# using numpy taking a matrix of xNew\n",
    "# width and yNew height with\n",
    "# 4 attribute [alpha, B, G, B] values\n",
    "newImage = npy.zeros([xNew, yNew, 4]);\n",
    " \n",
    "for i in range(xNew-1):\n",
    "    for j in range(yNew-1):\n",
    "        newImage[i + 1, j + 1]= m[1 + int(i / xScale),\n",
    "                                 1 + int(j / yScale)]\n",
    " \n",
    "# Save the image after scaling\n",
    "img.imsave('scaled.png', newImage);"
   ]
  },
  {
   "cell_type": "code",
   "execution_count": null,
   "id": "213c92ea",
   "metadata": {},
   "outputs": [],
   "source": []
  }
 ],
 "metadata": {
  "kernelspec": {
   "display_name": "Python 3 (ipykernel)",
   "language": "python",
   "name": "python3"
  },
  "language_info": {
   "codemirror_mode": {
    "name": "ipython",
    "version": 3
   },
   "file_extension": ".py",
   "mimetype": "text/x-python",
   "name": "python",
   "nbconvert_exporter": "python",
   "pygments_lexer": "ipython3",
   "version": "3.9.7"
  }
 },
 "nbformat": 4,
 "nbformat_minor": 5
}
